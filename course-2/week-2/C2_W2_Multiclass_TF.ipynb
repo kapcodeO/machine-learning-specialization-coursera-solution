{
 "cells": [
  {
   "cell_type": "markdown",
   "metadata": {},
   "source": [
    "# Optional Lab - Multi-class Classification\n"
   ]
  },
  {
   "cell_type": "markdown",
   "metadata": {},
   "source": [
    "## 1.1 Goals\n",
    "In this lab, you will explore an example of multi-class classification using neural networks.\n",
    "<figure>\n",
    " <img src=\"./images/C2_W2_mclass_header.png\"   style=\"width500px;height:200px;\">\n",
    "</figure>\n"
   ]
  },
  {
   "cell_type": "markdown",
   "metadata": {},
   "source": [
    "## 1.2 Tools\n",
    "You will use some plotting routines. These are stored in `lab_utils_multiclass_TF.py` in this directory."
   ]
  },
  {
   "cell_type": "code",
   "execution_count": 1,
   "metadata": {},
   "outputs": [],
   "source": [
    "import numpy as np\n",
    "import matplotlib.pyplot as plt\n",
    "%matplotlib widget\n",
    "from sklearn.datasets import make_blobs\n",
    "import tensorflow as tf\n",
    "from tensorflow.keras.models import Sequential\n",
    "from tensorflow.keras.layers import Dense\n",
    "np.set_printoptions(precision=2)\n",
    "from lab_utils_multiclass_TF import *\n",
    "import logging\n",
    "logging.getLogger(\"tensorflow\").setLevel(logging.ERROR)\n",
    "tf.autograph.set_verbosity(0)"
   ]
  },
  {
   "cell_type": "markdown",
   "metadata": {
    "tags": []
   },
   "source": [
    "# 2.0 Multi-class Classification\n",
    "Neural Networks are often used to classify data. Examples are neural networks:\n",
    "- take in photos and classify subjects in the photos as {dog,cat,horse,other}\n",
    "- take in a sentence and classify the 'parts of speech' of its elements: {noun, verb, adjective etc..}  \n",
    "\n",
    "A network of this type will have multiple units in its final layer. Each output is associated with a category. When an input example is applied to the network, the output with the highest value is the category predicted. If the output is applied to a softmax function, the output of the softmax will provide probabilities of the input being in each category. \n",
    "\n",
    "In this lab you will see an example of building a multiclass network in Tensorflow. We will then take a look at how the neural network makes its predictions.\n",
    "\n",
    "Let's start by creating a four-class data set."
   ]
  },
  {
   "cell_type": "markdown",
   "metadata": {},
   "source": [
    "## 2.1 Prepare and visualize our data\n",
    "We will use Scikit-Learn `make_blobs` function to make a training data set with 4 categories as shown in the plot below."
   ]
  },
  {
   "cell_type": "code",
   "execution_count": 2,
   "metadata": {},
   "outputs": [],
   "source": [
    "# make 4-class dataset for classification\n",
    "classes = 4\n",
    "m = 100\n",
    "centers = [[-5, 2], [-2, -2], [1, 2], [5, -2]]\n",
    "std = 1.0\n",
    "X_train, y_train = make_blobs(n_samples=m, centers=centers, cluster_std=std,random_state=30)"
   ]
  },
  {
   "cell_type": "code",
   "execution_count": 3,
   "metadata": {},
   "outputs": [
    {
     "data": {
      "application/vnd.jupyter.widget-view+json": {
       "model_id": "01e7d962091e455683882ddf0798635c",
       "version_major": 2,
       "version_minor": 0
      },
      "text/plain": [
       "Canvas(toolbar=Toolbar(toolitems=[('Home', 'Reset original view', 'home', 'home'), ('Back', 'Back to previous …"
      ]
     },
     "metadata": {},
     "output_type": "display_data"
    }
   ],
   "source": [
    "plt_mc(X_train,y_train,classes, centers, std=std)"
   ]
  },
  {
   "cell_type": "markdown",
   "metadata": {},
   "source": [
    "Each dot represents a training example. The axis (x0,x1) are the inputs and the color represents the class the example is associated with. Once trained, the model will be presented with a new example, (x0,x1), and will predict the class.  \n",
    "\n",
    "While generated, this data set is representative of many real-world classification problems. There are several input features (x0,...,xn) and several output categories. The model is trained to use the input features to predict the correct output category."
   ]
  },
  {
   "cell_type": "code",
   "execution_count": 4,
   "metadata": {},
   "outputs": [
    {
     "name": "stdout",
     "output_type": "stream",
     "text": [
      "unique classes [0 1 2 3]\n",
      "class representation [3 3 3 0 3 3 3 3 2 0]\n",
      "shape of X_train: (100, 2), shape of y_train: (100,)\n"
     ]
    }
   ],
   "source": [
    "# show classes in data set\n",
    "print(f\"unique classes {np.unique(y_train)}\")\n",
    "# show how classes are represented\n",
    "print(f\"class representation {y_train[:10]}\")\n",
    "# show shapes of our dataset\n",
    "print(f\"shape of X_train: {X_train.shape}, shape of y_train: {y_train.shape}\")"
   ]
  },
  {
   "cell_type": "markdown",
   "metadata": {
    "tags": []
   },
   "source": [
    "## 2.2 Model\n",
    "<img align=\"Right\" src=\"./images/C2_W2_mclass_lab_network.PNG\"  style=\" width:350px; padding: 10px 20px ; \">\n",
    "This lab will use a 2-layer network as shown.\n",
    "Unlike the binary classification networks, this network has four outputs, one for each class. Given an input example, the output with the highest value is the predicted class of the input.   \n",
    "\n",
    "Below is an example of how to construct this network in Tensorflow. Notice the output layer uses a `linear` rather than a `softmax` activation. While it is possible to include the softmax in the output layer, it is more numerically stable if linear outputs are passed to the loss function during training. If the model is used to predict probabilities, the softmax can be applied at that point."
   ]
  },
  {
   "cell_type": "code",
   "execution_count": 5,
   "metadata": {},
   "outputs": [],
   "source": [
    "tf.random.set_seed(1234)  # applied to achieve consistent results\n",
    "model = Sequential(\n",
    "    [\n",
    "        Dense(2, activation = 'relu',   name = \"L1\"),\n",
    "        Dense(4, activation = 'linear', name = \"L2\")\n",
    "    ]\n",
    ")"
   ]
  },
  {
   "cell_type": "markdown",
   "metadata": {},
   "source": [
    "The statements below compile and train the network. Setting `from_logits=True` as an argument to the loss function specifies that the output activation was linear rather than a softmax."
   ]
  },
  {
   "cell_type": "code",
   "execution_count": 9,
   "metadata": {
    "scrolled": true,
    "tags": []
   },
   "outputs": [
    {
     "name": "stdout",
     "output_type": "stream",
     "text": [
      "Epoch 1/100\n",
      "4/4 [==============================] - 0s 1ms/step - loss: 4.6878e-05\n",
      "Epoch 2/100\n",
      "4/4 [==============================] - 0s 1ms/step - loss: 4.2835e-05\n",
      "Epoch 3/100\n",
      "4/4 [==============================] - 0s 2ms/step - loss: 4.0852e-05\n",
      "Epoch 4/100\n",
      "4/4 [==============================] - 0s 2ms/step - loss: 3.8384e-05\n",
      "Epoch 5/100\n",
      "4/4 [==============================] - 0s 1ms/step - loss: 3.6509e-05\n",
      "Epoch 6/100\n",
      "4/4 [==============================] - 0s 1ms/step - loss: 3.5742e-05\n",
      "Epoch 7/100\n",
      "4/4 [==============================] - 0s 1ms/step - loss: 3.5268e-05\n",
      "Epoch 8/100\n",
      "4/4 [==============================] - 0s 1ms/step - loss: 3.2708e-05\n",
      "Epoch 9/100\n",
      "4/4 [==============================] - 0s 1ms/step - loss: 3.0522e-05\n",
      "Epoch 10/100\n",
      "4/4 [==============================] - 0s 1ms/step - loss: 2.9393e-05\n",
      "Epoch 11/100\n",
      "4/4 [==============================] - 0s 1ms/step - loss: 2.8106e-05\n",
      "Epoch 12/100\n",
      "4/4 [==============================] - 0s 1ms/step - loss: 2.7132e-05\n",
      "Epoch 13/100\n",
      "4/4 [==============================] - 0s 1ms/step - loss: 2.5687e-05\n",
      "Epoch 14/100\n",
      "4/4 [==============================] - 0s 1ms/step - loss: 2.4802e-05\n",
      "Epoch 15/100\n",
      "4/4 [==============================] - 0s 1ms/step - loss: 2.3787e-05\n",
      "Epoch 16/100\n",
      "4/4 [==============================] - 0s 1ms/step - loss: 2.2958e-05\n",
      "Epoch 17/100\n",
      "4/4 [==============================] - 0s 4ms/step - loss: 2.2241e-05\n",
      "Epoch 18/100\n",
      "4/4 [==============================] - 0s 1ms/step - loss: 2.1428e-05\n",
      "Epoch 19/100\n",
      "4/4 [==============================] - 0s 1ms/step - loss: 2.0726e-05\n",
      "Epoch 20/100\n",
      "4/4 [==============================] - 0s 1ms/step - loss: 1.9932e-05\n",
      "Epoch 21/100\n",
      "4/4 [==============================] - 0s 1ms/step - loss: 1.9316e-05\n",
      "Epoch 22/100\n",
      "4/4 [==============================] - 0s 1ms/step - loss: 1.8691e-05\n",
      "Epoch 23/100\n",
      "4/4 [==============================] - 0s 1ms/step - loss: 1.8004e-05\n",
      "Epoch 24/100\n",
      "4/4 [==============================] - 0s 997us/step - loss: 1.8530e-05\n",
      "Epoch 25/100\n",
      "4/4 [==============================] - 0s 1ms/step - loss: 1.8765e-05\n",
      "Epoch 26/100\n",
      "4/4 [==============================] - 0s 1ms/step - loss: 1.8135e-05\n",
      "Epoch 27/100\n",
      "4/4 [==============================] - 0s 1ms/step - loss: 1.7378e-05\n",
      "Epoch 28/100\n",
      "4/4 [==============================] - 0s 1ms/step - loss: 1.6424e-05\n",
      "Epoch 29/100\n",
      "4/4 [==============================] - 0s 992us/step - loss: 1.5682e-05\n",
      "Epoch 30/100\n",
      "4/4 [==============================] - 0s 1ms/step - loss: 1.4991e-05\n",
      "Epoch 31/100\n",
      "4/4 [==============================] - 0s 1ms/step - loss: 1.4443e-05\n",
      "Epoch 32/100\n",
      "4/4 [==============================] - 0s 988us/step - loss: 1.3934e-05\n",
      "Epoch 33/100\n",
      "4/4 [==============================] - 0s 1ms/step - loss: 1.3353e-05\n",
      "Epoch 34/100\n",
      "4/4 [==============================] - 0s 4ms/step - loss: 1.3115e-05\n",
      "Epoch 35/100\n",
      "4/4 [==============================] - 0s 1ms/step - loss: 1.2782e-05\n",
      "Epoch 36/100\n",
      "4/4 [==============================] - 0s 1ms/step - loss: 1.2372e-05\n",
      "Epoch 37/100\n",
      "4/4 [==============================] - 0s 1ms/step - loss: 1.2095e-05\n",
      "Epoch 38/100\n",
      "4/4 [==============================] - 0s 1ms/step - loss: 1.1764e-05\n",
      "Epoch 39/100\n",
      "4/4 [==============================] - 0s 1ms/step - loss: 1.1551e-05\n",
      "Epoch 40/100\n",
      "4/4 [==============================] - 0s 985us/step - loss: 1.1283e-05\n",
      "Epoch 41/100\n",
      "4/4 [==============================] - 0s 998us/step - loss: 1.1121e-05\n",
      "Epoch 42/100\n",
      "4/4 [==============================] - 0s 1ms/step - loss: 1.0895e-05\n",
      "Epoch 43/100\n",
      "4/4 [==============================] - 0s 1ms/step - loss: 1.0612e-05\n",
      "Epoch 44/100\n",
      "4/4 [==============================] - 0s 978us/step - loss: 1.0289e-05\n",
      "Epoch 45/100\n",
      "4/4 [==============================] - 0s 989us/step - loss: 1.0067e-05\n",
      "Epoch 46/100\n",
      "4/4 [==============================] - 0s 998us/step - loss: 9.9668e-06\n",
      "Epoch 47/100\n",
      "4/4 [==============================] - 0s 1ms/step - loss: 9.7701e-06\n",
      "Epoch 48/100\n",
      "4/4 [==============================] - 0s 958us/step - loss: 9.5472e-06\n",
      "Epoch 49/100\n",
      "4/4 [==============================] - 0s 1ms/step - loss: 9.2349e-06\n",
      "Epoch 50/100\n",
      "4/4 [==============================] - 0s 1ms/step - loss: 8.9488e-06\n",
      "Epoch 51/100\n",
      "4/4 [==============================] - 0s 965us/step - loss: 8.8010e-06\n",
      "Epoch 52/100\n",
      "4/4 [==============================] - 0s 2ms/step - loss: 8.6234e-06\n",
      "Epoch 53/100\n",
      "4/4 [==============================] - 0s 1ms/step - loss: 8.4517e-06\n",
      "Epoch 54/100\n",
      "4/4 [==============================] - 0s 1ms/step - loss: 8.2336e-06\n",
      "Epoch 55/100\n",
      "4/4 [==============================] - 0s 1ms/step - loss: 8.0917e-06\n",
      "Epoch 56/100\n",
      "4/4 [==============================] - 0s 1ms/step - loss: 7.9094e-06\n",
      "Epoch 57/100\n",
      "4/4 [==============================] - 0s 1ms/step - loss: 7.7770e-06\n",
      "Epoch 58/100\n",
      "4/4 [==============================] - 0s 1ms/step - loss: 7.6555e-06\n",
      "Epoch 59/100\n",
      "4/4 [==============================] - 0s 1ms/step - loss: 7.5291e-06\n",
      "Epoch 60/100\n",
      "4/4 [==============================] - 0s 1ms/step - loss: 7.3289e-06\n",
      "Epoch 61/100\n",
      "4/4 [==============================] - 0s 1ms/step - loss: 7.1965e-06\n",
      "Epoch 62/100\n",
      "4/4 [==============================] - 0s 1ms/step - loss: 7.0368e-06\n",
      "Epoch 63/100\n",
      "4/4 [==============================] - 0s 1ms/step - loss: 6.8949e-06\n",
      "Epoch 64/100\n",
      "4/4 [==============================] - 0s 1ms/step - loss: 6.7436e-06\n",
      "Epoch 65/100\n",
      "4/4 [==============================] - 0s 1ms/step - loss: 6.6172e-06\n",
      "Epoch 66/100\n",
      "4/4 [==============================] - 0s 1ms/step - loss: 6.5135e-06\n",
      "Epoch 67/100\n",
      "4/4 [==============================] - 0s 1ms/step - loss: 6.3943e-06\n",
      "Epoch 68/100\n",
      "4/4 [==============================] - 0s 2ms/step - loss: 6.2667e-06\n",
      "Epoch 69/100\n",
      "4/4 [==============================] - 0s 1ms/step - loss: 6.1583e-06\n",
      "Epoch 70/100\n",
      "4/4 [==============================] - 0s 1ms/step - loss: 6.0391e-06\n",
      "Epoch 71/100\n",
      "4/4 [==============================] - 0s 1ms/step - loss: 5.9318e-06\n",
      "Epoch 72/100\n",
      "4/4 [==============================] - 0s 1ms/step - loss: 5.8245e-06\n",
      "Epoch 73/100\n",
      "4/4 [==============================] - 0s 1ms/step - loss: 5.7017e-06\n",
      "Epoch 74/100\n",
      "4/4 [==============================] - 0s 1ms/step - loss: 5.6409e-06\n",
      "Epoch 75/100\n",
      "4/4 [==============================] - 0s 1ms/step - loss: 5.6385e-06\n",
      "Epoch 76/100\n",
      "4/4 [==============================] - 0s 1ms/step - loss: 5.6397e-06\n",
      "Epoch 77/100\n",
      "4/4 [==============================] - 0s 1ms/step - loss: 5.6111e-06\n",
      "Epoch 78/100\n",
      "4/4 [==============================] - 0s 1ms/step - loss: 5.5300e-06\n",
      "Epoch 79/100\n",
      "4/4 [==============================] - 0s 1ms/step - loss: 5.4180e-06\n",
      "Epoch 80/100\n",
      "4/4 [==============================] - 0s 1ms/step - loss: 5.2845e-06\n",
      "Epoch 81/100\n",
      "4/4 [==============================] - 0s 1ms/step - loss: 5.1736e-06\n",
      "Epoch 82/100\n",
      "4/4 [==============================] - 0s 1ms/step - loss: 5.0651e-06\n",
      "Epoch 83/100\n",
      "4/4 [==============================] - 0s 1ms/step - loss: 4.9602e-06\n",
      "Epoch 84/100\n",
      "4/4 [==============================] - 0s 1ms/step - loss: 4.8529e-06\n",
      "Epoch 85/100\n",
      "4/4 [==============================] - 0s 1ms/step - loss: 4.7993e-06\n",
      "Epoch 86/100\n",
      "4/4 [==============================] - 0s 2ms/step - loss: 4.7206e-06\n",
      "Epoch 87/100\n",
      "4/4 [==============================] - 0s 1ms/step - loss: 4.6646e-06\n",
      "Epoch 88/100\n",
      "4/4 [==============================] - 0s 1ms/step - loss: 4.6062e-06\n",
      "Epoch 89/100\n",
      "4/4 [==============================] - 0s 1ms/step - loss: 4.5216e-06\n",
      "Epoch 90/100\n",
      "4/4 [==============================] - 0s 1ms/step - loss: 4.4643e-06\n",
      "Epoch 91/100\n",
      "4/4 [==============================] - 0s 1ms/step - loss: 4.4000e-06\n",
      "Epoch 92/100\n",
      "4/4 [==============================] - 0s 991us/step - loss: 4.3225e-06\n",
      "Epoch 93/100\n",
      "4/4 [==============================] - 0s 1ms/step - loss: 4.2867e-06\n",
      "Epoch 94/100\n",
      "4/4 [==============================] - 0s 1ms/step - loss: 4.1770e-06\n",
      "Epoch 95/100\n",
      "4/4 [==============================] - 0s 1ms/step - loss: 4.1246e-06\n",
      "Epoch 96/100\n",
      "4/4 [==============================] - 0s 1ms/step - loss: 4.1556e-06\n",
      "Epoch 97/100\n",
      "4/4 [==============================] - 0s 990us/step - loss: 4.1020e-06\n",
      "Epoch 98/100\n",
      "4/4 [==============================] - 0s 1ms/step - loss: 4.0054e-06\n",
      "Epoch 99/100\n"
     ]
    },
    {
     "name": "stdout",
     "output_type": "stream",
     "text": [
      "4/4 [==============================] - 0s 1ms/step - loss: 3.9541e-06\n",
      "Epoch 100/100\n",
      "4/4 [==============================] - 0s 1ms/step - loss: 3.8492e-06\n"
     ]
    },
    {
     "data": {
      "text/plain": [
       "<keras.callbacks.History at 0x7f15700a9290>"
      ]
     },
     "execution_count": 9,
     "metadata": {},
     "output_type": "execute_result"
    }
   ],
   "source": [
    "model.compile(\n",
    "    loss=tf.keras.losses.SparseCategoricalCrossentropy(from_logits=True),\n",
    "    optimizer=tf.keras.optimizers.Adam(0.01),\n",
    ")\n",
    "\n",
    "model.fit(\n",
    "    X_train,y_train,\n",
    "    epochs=100\n",
    ")"
   ]
  },
  {
   "cell_type": "markdown",
   "metadata": {},
   "source": [
    "With the model trained, we can see how the model has classified the training data."
   ]
  },
  {
   "cell_type": "code",
   "execution_count": 10,
   "metadata": {},
   "outputs": [
    {
     "data": {
      "application/vnd.jupyter.widget-view+json": {
       "model_id": "52bb7e57cb2b40708068a9a7421d1668",
       "version_major": 2,
       "version_minor": 0
      },
      "text/plain": [
       "Canvas(toolbar=Toolbar(toolitems=[('Home', 'Reset original view', 'home', 'home'), ('Back', 'Back to previous …"
      ]
     },
     "metadata": {},
     "output_type": "display_data"
    }
   ],
   "source": [
    "plt_cat_mc(X_train, y_train, model, classes)"
   ]
  },
  {
   "cell_type": "markdown",
   "metadata": {},
   "source": [
    "Above, the decision boundaries show how the model has partitioned the input space.  This very simple model has had no trouble classifying the training data. How did it accomplish this? Let's look at the network in more detail. \n",
    "\n",
    "Below, we will pull the trained weights from the model and use that to plot the function of each of the network units. Further down, there is a more detailed explanation of the results. You don't need to know these details to successfully use neural networks, but it may be helpful to gain more intuition about how the layers combine to solve a classification problem."
   ]
  },
  {
   "cell_type": "code",
   "execution_count": 11,
   "metadata": {},
   "outputs": [],
   "source": [
    "# gather the trained parameters from the first layer\n",
    "l1 = model.get_layer(\"L1\")\n",
    "W1,b1 = l1.get_weights()"
   ]
  },
  {
   "cell_type": "code",
   "execution_count": 12,
   "metadata": {},
   "outputs": [
    {
     "data": {
      "application/vnd.jupyter.widget-view+json": {
       "model_id": "6bb2ef01a2df4e01ace6f3084bdb4142",
       "version_major": 2,
       "version_minor": 0
      },
      "text/plain": [
       "Canvas(toolbar=Toolbar(toolitems=[('Home', 'Reset original view', 'home', 'home'), ('Back', 'Back to previous …"
      ]
     },
     "metadata": {},
     "output_type": "display_data"
    }
   ],
   "source": [
    "# plot the function of the first layer\n",
    "plt_layer_relu(X_train, y_train.reshape(-1,), W1, b1, classes)"
   ]
  },
  {
   "cell_type": "code",
   "execution_count": 13,
   "metadata": {
    "tags": []
   },
   "outputs": [
    {
     "data": {
      "application/vnd.jupyter.widget-view+json": {
       "model_id": "2d3cb920d2b747a0b1c1a687673dd66b",
       "version_major": 2,
       "version_minor": 0
      },
      "text/plain": [
       "Canvas(toolbar=Toolbar(toolitems=[('Home', 'Reset original view', 'home', 'home'), ('Back', 'Back to previous …"
      ]
     },
     "metadata": {},
     "output_type": "display_data"
    }
   ],
   "source": [
    "# gather the trained parameters from the output layer\n",
    "l2 = model.get_layer(\"L2\")\n",
    "W2, b2 = l2.get_weights()\n",
    "# create the 'new features', the training examples after L1 transformation\n",
    "Xl2 = np.maximum(0, np.dot(X_train,W1) + b1)\n",
    "\n",
    "plt_output_layer_linear(Xl2, y_train.reshape(-1,), W2, b2, classes,\n",
    "                        x0_rng = (-0.25,np.amax(Xl2[:,0])), x1_rng = (-0.25,np.amax(Xl2[:,1])))"
   ]
  },
  {
   "cell_type": "markdown",
   "metadata": {},
   "source": [
    "## Explanation\n",
    "#### Layer 1 <img align=\"Right\" src=\"./images/C2_W2_mclass_layer1.png\"  style=\" width:600px; padding: 10px 20px ; \">\n",
    "These plots show the function of Units 0 and 1 in the first layer of the network. The inputs are ($x_0,x_1$) on the axis. The output of the unit is represented by the color of the background. This is indicated by the color bar on the right of each graph. Notice that since these units are using a ReLu, the outputs do not necessarily fall between 0 and 1 and in this case are greater than 20 at their peaks. \n",
    "The contour lines in this graph show the transition point between the output, $a^{[1]}_j$ being zero and non-zero. Recall the graph for a ReLu :<img align=\"right\" src=\"./images/C2_W2_mclass_relu.png\"  style=\" width:200px; padding: 10px 20px ; \"> The contour line in the graph is the inflection point in the ReLu.\n",
    "\n",
    "Unit 0 has separated classes 0 and 1 from classes 2 and 3. Points to the left of the line (classes 0 and 1) will output zero, while points to the right will output a value greater than zero.  \n",
    "Unit 1 has separated classes 0 and 2 from classes 1 and 3. Points above the line (classes 0 and 2 ) will output a zero, while points below will output a value greater than zero. Let's see how this works out in the next layer!"
   ]
  },
  {
   "cell_type": "markdown",
   "metadata": {},
   "source": [
    "#### Layer 2, the output layer  <img align=\"Right\" src=\"./images/C2_W2_mclass_layer2.png\"  style=\" width:600px; padding: 10px 20px ; \">\n",
    "\n",
    "The dots in these graphs are the training examples translated by the first layer. One way to think of this is the first layer has created a new set of features for evaluation by the 2nd layer. The axes in these plots are the outputs of the previous layer $a^{[1]}_0$ and $a^{[1]}_1$. As predicted above, classes 0 and 1 (blue and green) have  $a^{[1]}_0 = 0$ while classes 0 and 2 (blue and orange) have $a^{[1]}_1 = 0$.  \n",
    "Once again, the intensity of the background color indicates the highest values.  \n",
    "Unit 0 will produce its maximum value for values near (0,0), where class 0 (blue) has been mapped.    \n",
    "Unit 1 produces its highest values in the upper left corner selecting class 1 (green).  \n",
    "Unit 2 targets the lower right corner where class 2 (orange) resides.  \n",
    "Unit 3 produces its highest values in the upper right selecting our final class (purple).  \n",
    "\n",
    "One other aspect that is not obvious from the graphs is that the values have been coordinated between the units. It is not sufficient for a unit to produce a maximum value for the class it is selecting for, it must also be the highest value of all the units for points in that class. This is done by the implied softmax function that is part of the loss function (`SparseCategoricalCrossEntropy`). Unlike other activation functions, the softmax works across all the outputs.\n",
    "\n",
    "You can successfully use neural networks without knowing the details of what each unit is up to. Hopefully, this example has provided some intuition about what is happening under the hood."
   ]
  },
  {
   "cell_type": "markdown",
   "metadata": {},
   "source": [
    "## Congratulations!\n",
    "You have learned to build and operate a neural network for multiclass classification.\n"
   ]
  },
  {
   "cell_type": "code",
   "execution_count": null,
   "metadata": {},
   "outputs": [],
   "source": []
  }
 ],
 "metadata": {
  "kernelspec": {
   "display_name": "Python 3",
   "language": "python",
   "name": "python3"
  },
  "language_info": {
   "codemirror_mode": {
    "name": "ipython",
    "version": 3
   },
   "file_extension": ".py",
   "mimetype": "text/x-python",
   "name": "python",
   "nbconvert_exporter": "python",
   "pygments_lexer": "ipython3",
   "version": "3.7.6"
  }
 },
 "nbformat": 4,
 "nbformat_minor": 4
}
